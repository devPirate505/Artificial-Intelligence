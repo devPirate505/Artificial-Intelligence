{
  "cells": [
    {
      "cell_type": "code",
      "execution_count": 1,
      "metadata": {
        "colab": {
          "base_uri": "https://localhost:8080/"
        },
        "id": "jPF3Rl4TcFN9",
        "outputId": "31ccb758-75fc-4bb2-f174-fef68fd7d62b"
      },
      "outputs": [
        {
          "ename": "ModuleNotFoundError",
          "evalue": "No module named 'google'",
          "output_type": "error",
          "traceback": [
            "\u001b[1;31m---------------------------------------------------------------------------\u001b[0m",
            "\u001b[1;31mModuleNotFoundError\u001b[0m                       Traceback (most recent call last)",
            "Cell \u001b[1;32mIn[1], line 1\u001b[0m\n\u001b[1;32m----> 1\u001b[0m \u001b[38;5;28;01mfrom\u001b[39;00m \u001b[38;5;21;01mgoogle\u001b[39;00m\u001b[38;5;21;01m.\u001b[39;00m\u001b[38;5;21;01mcolab\u001b[39;00m \u001b[38;5;28;01mimport\u001b[39;00m drive\n\u001b[0;32m      4\u001b[0m drive\u001b[38;5;241m.\u001b[39mmount(\u001b[38;5;124m'\u001b[39m\u001b[38;5;124m/content/drive\u001b[39m\u001b[38;5;124m'\u001b[39m)\n\u001b[0;32m      6\u001b[0m \u001b[38;5;28;01mimport\u001b[39;00m \u001b[38;5;21;01mos\u001b[39;00m\n",
            "\u001b[1;31mModuleNotFoundError\u001b[0m: No module named 'google'"
          ]
        }
      ],
      "source": [
        "from google.colab import drive\n",
        "\n",
        "\n",
        "    drive.mount('/content/drive')\n",
        "\n",
        "import os\n",
        "\n",
        "def count_sentences(text):\n",
        "    sentence_delimiters = ['.', ':', ';', '?', '!']\n",
        "    count = sum(text.count(char) for char in sentence_delimiters)\n",
        "    return max(count, 1)\n",
        "\n",
        "def count_words(text):\n",
        "    words = text.split()\n",
        "    return len(words)\n",
        "\n",
        "def count_characters(text):\n",
        "    alphanumeric_count = sum(char.isalnum() for char in text)\n",
        "    return alphanumeric_count\n",
        "\n",
        "def compute_ARI(characters, words, sentences):\n",
        "    score = 4.71 * (characters / words) + 0.5 * (words / sentences) - 21.43\n",
        "    if score < 0:\n",
        "      score = 0\n",
        "    return int(round(score))\n",
        "\n",
        "def process_text_file(file_path):\n",
        "    with open(file_path, 'r') as file:\n",
        "        text = file.read()\n",
        "        sentences = count_sentences(text)\n",
        "        words = count_words(text)\n",
        "        characters = count_characters(text)\n",
        "        return sentences, words, characters\n",
        "\n",
        "def main(directory):\n",
        "    files = os.listdir(directory)\n",
        "\n",
        "\n",
        "    for filename in files:\n",
        "\n",
        "        if filename.endswith('file02.txt'):\n",
        "\n",
        "            file_path = os.path.join(directory, filename)\n",
        "\n",
        "            sentences, words, characters = process_text_file(file_path)\n",
        "            readability_index = compute_ARI(characters, words, sentences)\n",
        "\n",
        "            print(\"Text File {filename}:\")\n",
        "            print(\"Number of sentences: {sentences}\")\n",
        "            print(\"Number of words: {words}\")\n",
        "            print(\"Number of characters: {characters}\")\n",
        "            print(\"Readability index: {readability_index}\")\n",
        "            print()\n",
        "main('/content/drive/MyDrive/Text_files')"
      ]
    }
  ],
  "metadata": {
    "colab": {
      "provenance": []
    },
    "kernelspec": {
      "display_name": "Python 3",
      "name": "python3"
    },
    "language_info": {
      "codemirror_mode": {
        "name": "ipython",
        "version": 3
      },
      "file_extension": ".py",
      "mimetype": "text/x-python",
      "name": "python",
      "nbconvert_exporter": "python",
      "pygments_lexer": "ipython3",
      "version": "3.11.5"
    }
  },
  "nbformat": 4,
  "nbformat_minor": 0
}
