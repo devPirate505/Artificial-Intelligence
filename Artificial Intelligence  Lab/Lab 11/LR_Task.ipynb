{
  "nbformat": 4,
  "nbformat_minor": 0,
  "metadata": {
    "colab": {
      "provenance": []
    },
    "kernelspec": {
      "name": "python3",
      "display_name": "Python 3"
    },
    "language_info": {
      "name": "python"
    }
  },
  "cells": [
    {
      "cell_type": "code",
      "execution_count": 64,
      "metadata": {
        "id": "KtJGBe0sWTvB"
      },
      "outputs": [],
      "source": [
        "# Importing necessary libraries\n",
        "import numpy as np\n",
        "from sklearn.model_selection import train_test_split\n",
        "from sklearn.linear_model import LinearRegression\n",
        "from sklearn.metrics import mean_squared_error\n",
        "from sklearn.preprocessing import StandardScaler\n",
        "import pandas as pd\n",
        "import matplotlib.pyplot as plt\n"
      ]
    },
    {
      "cell_type": "code",
      "source": [
        "# funtion for outliers\n",
        "def handle_outliers(feature):\n",
        "  data_sorted = df.sort_values(by = feature)\n",
        "  Q1 = data_sorted[feature].quantile(0.25)\n",
        "  Q3 = data_sorted[feature].quantile(0.75)\n",
        "  IQR = Q3 - Q1\n",
        "  lower_bound = Q1 - 1.5 * IQR\n",
        "  upper_bound = Q3 + 1.5 * IQR\n",
        "  data_filtered = df[(df[feature] >= lower_bound) & (df[feature] <= upper_bound)]\n",
        "  return data_filtered"
      ],
      "metadata": {
        "id": "QgqPDolOiww6"
      },
      "execution_count": 53,
      "outputs": []
    },
    {
      "cell_type": "code",
      "source": [
        "# Importing dataset\n",
        "df = pd.read_csv(\"BostonHousing.csv\")\n",
        "\n",
        "# Fill NaN values with the mean of each column\n",
        "df.fillna(df.mean(), inplace=True)\n",
        "\n",
        "# Handling outliers\n",
        "for i in df:\n",
        "  df = handle_outliers(i)\n",
        "\n",
        "# Data Normalization\n",
        "standard_scaler = StandardScaler()\n",
        "standardized_features = standard_scaler.fit_transform(df)\n",
        "df = pd.DataFrame(standardized_features, columns = df.columns)"
      ],
      "metadata": {
        "id": "Ckn0xFabXdh5"
      },
      "execution_count": 58,
      "outputs": []
    },
    {
      "cell_type": "code",
      "source": [
        "X = df.drop('medv', axis=1)\n",
        "y = df['medv']\n",
        "\n",
        "# Splitting the data into training and testing sets\n",
        "X_train, X_test, y_train, y_test = train_test_split(X, y, test_size=0.2)\n",
        "\n",
        "model = LinearRegression()\n",
        "model.fit(X_train, y_train)\n",
        "y_predict = model.predict(X_test)\n",
        "\n",
        "mse = mean_squared_error(y_test, y_predict)\n",
        "\n",
        "print(\"Mean Squared Error: \", mse)"
      ],
      "metadata": {
        "colab": {
          "base_uri": "https://localhost:8080/"
        },
        "id": "032yhzTHm9x3",
        "outputId": "a88adcde-6fb4-45c0-f516-826543db5b9d"
      },
      "execution_count": 62,
      "outputs": [
        {
          "output_type": "stream",
          "name": "stdout",
          "text": [
            "Mean Squared Error:  0.36213951817311635\n"
          ]
        }
      ]
    },
    {
      "cell_type": "code",
      "source": [
        "# plotting\n",
        "\n",
        "plt.scatter(x = y_test, y = y_predict)\n",
        "plt.plot(y_test, y_test, color = 'red')"
      ],
      "metadata": {
        "colab": {
          "base_uri": "https://localhost:8080/",
          "height": 447
        },
        "id": "OofJA_HiwveH",
        "outputId": "cb4364f3-c39b-475c-db5f-0eacd4efd82d"
      },
      "execution_count": 65,
      "outputs": [
        {
          "output_type": "execute_result",
          "data": {
            "text/plain": [
              "[<matplotlib.lines.Line2D at 0x7a24bb11c2b0>]"
            ]
          },
          "metadata": {},
          "execution_count": 65
        },
        {
          "output_type": "display_data",
          "data": {
            "text/plain": [
              "<Figure size 640x480 with 1 Axes>"
            ],
            "image/png": "[encoded data removed]"
          },
          "metadata": {}
        }
      ]
    }
  ]
}