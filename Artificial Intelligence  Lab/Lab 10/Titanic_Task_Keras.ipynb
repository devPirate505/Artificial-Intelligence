{
  "nbformat": 4,
  "nbformat_minor": 0,
  "metadata": {
    "colab": {
      "provenance": []
    },
    "kernelspec": {
      "name": "python3",
      "display_name": "Python 3"
    },
    "language_info": {
      "name": "python"
    }
  },
  "cells": [
    {
      "cell_type": "code",
      "execution_count": 1,
      "metadata": {
        "colab": {
          "base_uri": "https://localhost:8080/"
        },
        "id": "dc7XczBRNEYQ",
        "outputId": "d177fee4-4022-4880-cc1a-6917928376b0"
      },
      "outputs": [
        {
          "output_type": "stream",
          "name": "stdout",
          "text": [
            "Mounted at /content/drive\n"
          ]
        }
      ],
      "source": [
        "from google.colab import drive\n",
        "drive.mount('/content/drive')\n",
        "\n",
        "file_path = (\"/content/drive/MyDrive/titanic3.csv\")"
      ]
    },
    {
      "cell_type": "code",
      "source": [
        "import pandas as pd\n",
        "import numpy as np\n",
        "from sklearn import preprocessing\n",
        "from sklearn.model_selection import train_test_split\n",
        "from sklearn.neural_network import MLPClassifier\n",
        "from sklearn.metrics import accuracy_score\n",
        "from keras.models import Sequential\n",
        "from keras.layers import Dense\n",
        "import matplotlib.pyplot as plt\n"
      ],
      "metadata": {
        "id": "PTc8KcYVUCFl"
      },
      "execution_count": 7,
      "outputs": []
    },
    {
      "cell_type": "code",
      "source": [
        "# Load the Titanic dataset\n",
        "df = pd.read_csv(file_path)\n",
        "\n",
        "# Preprocessing\n",
        "\n",
        "# Convert categorical data to numeric\n",
        "le = preprocessing.LabelEncoder()\n",
        "df['sex'] = le.fit_transform(df['sex'])\n",
        "df['embarked'] = le.fit_transform(df['embarked'].astype(str))\n",
        "\n",
        "# Drop unnecessary columns\n",
        "df.drop(['name', 'ticket', 'cabin', 'boat', 'body', 'home.dest'], axis=1, inplace=True)\n",
        "\n",
        "# Fill missing values\n",
        "df = df.fillna(df.mean())\n",
        "\n",
        "# Normalization\n",
        "x = df.values\n",
        "min_max_scaler = preprocessing.MinMaxScaler()\n",
        "x_scaled = min_max_scaler.fit_transform(x)\n",
        "df = pd.DataFrame(x_scaled, columns=df.columns)\n",
        "\n",
        "df['survived'] = df['survived'].apply(lambda x: round(x)).astype(int)\n",
        "\n",
        "# Split the dataset\n",
        "features = df.drop('survived', axis=1)\n",
        "labels = df['survived']\n",
        "X_train, X_test, y_train, y_test = train_test_split(features, labels, test_size=0.2, random_state=42)\n",
        "\n",
        "# Model Training\n",
        "# Scikit-learn MLP\n",
        "mlp = MLPClassifier(hidden_layer_sizes=(10, 10, 10), max_iter=1000)\n",
        "mlp.fit(X_train, y_train)\n",
        "\n",
        "\n",
        "# Keras DNN\n",
        "input_dim = X_train.shape[1]  # Number of features in X_train\n",
        "\n",
        "# Define the model\n",
        "model = Sequential()\n",
        "model.add(Dense(12, input_dim=input_dim, activation='relu'))\n",
        "model.add(Dense(8, activation='relu'))\n",
        "model.add(Dense(1, activation='sigmoid'))\n",
        "model.compile(loss='binary_crossentropy', optimizer='adam', metrics=['accuracy'])\n",
        "model.fit(X_train, y_train, epochs=50, batch_size=10)\n",
        "\n"
      ],
      "metadata": {
        "colab": {
          "base_uri": "https://localhost:8080/"
        },
        "id": "74FtQ-6ES7Xr",
        "outputId": "96daeb5d-7c45-4f34-ed33-08c9da4c1c07"
      },
      "execution_count": 21,
      "outputs": [
        {
          "output_type": "stream",
          "name": "stdout",
          "text": [
            "Epoch 1/50\n",
            "105/105 [==============================] - 1s 2ms/step - loss: 0.6905 - accuracy: 0.5172\n",
            "Epoch 2/50\n",
            "105/105 [==============================] - 0s 2ms/step - loss: 0.6499 - accuracy: 0.6317\n",
            "Epoch 3/50\n",
            "105/105 [==============================] - 0s 2ms/step - loss: 0.6229 - accuracy: 0.6298\n",
            "Epoch 4/50\n",
            "105/105 [==============================] - 0s 2ms/step - loss: 0.5957 - accuracy: 0.6422\n",
            "Epoch 5/50\n",
            "105/105 [==============================] - 0s 2ms/step - loss: 0.5601 - accuracy: 0.7500\n",
            "Epoch 6/50\n",
            "105/105 [==============================] - 0s 2ms/step - loss: 0.5211 - accuracy: 0.7958\n",
            "Epoch 7/50\n",
            "105/105 [==============================] - 0s 4ms/step - loss: 0.4969 - accuracy: 0.7882\n",
            "Epoch 8/50\n",
            "105/105 [==============================] - 0s 3ms/step - loss: 0.4867 - accuracy: 0.7853\n",
            "Epoch 9/50\n",
            "105/105 [==============================] - 0s 3ms/step - loss: 0.4758 - accuracy: 0.7901\n",
            "Epoch 10/50\n",
            "105/105 [==============================] - 0s 3ms/step - loss: 0.4705 - accuracy: 0.7882\n",
            "Epoch 11/50\n",
            "105/105 [==============================] - 0s 3ms/step - loss: 0.4652 - accuracy: 0.7910\n",
            "Epoch 12/50\n",
            "105/105 [==============================] - 0s 3ms/step - loss: 0.4612 - accuracy: 0.7996\n",
            "Epoch 13/50\n",
            "105/105 [==============================] - 0s 3ms/step - loss: 0.4580 - accuracy: 0.8092\n",
            "Epoch 14/50\n",
            "105/105 [==============================] - 0s 4ms/step - loss: 0.4545 - accuracy: 0.8092\n",
            "Epoch 15/50\n",
            "105/105 [==============================] - 0s 3ms/step - loss: 0.4522 - accuracy: 0.8130\n",
            "Epoch 16/50\n",
            "105/105 [==============================] - 0s 3ms/step - loss: 0.4487 - accuracy: 0.8168\n",
            "Epoch 17/50\n",
            "105/105 [==============================] - 0s 4ms/step - loss: 0.4485 - accuracy: 0.8073\n",
            "Epoch 18/50\n",
            "105/105 [==============================] - 0s 3ms/step - loss: 0.4459 - accuracy: 0.8177\n",
            "Epoch 19/50\n",
            "105/105 [==============================] - 0s 2ms/step - loss: 0.4440 - accuracy: 0.8168\n",
            "Epoch 20/50\n",
            "105/105 [==============================] - 0s 2ms/step - loss: 0.4427 - accuracy: 0.8206\n",
            "Epoch 21/50\n",
            "105/105 [==============================] - 0s 2ms/step - loss: 0.4411 - accuracy: 0.8177\n",
            "Epoch 22/50\n",
            "105/105 [==============================] - 0s 2ms/step - loss: 0.4389 - accuracy: 0.8206\n",
            "Epoch 23/50\n",
            "105/105 [==============================] - 0s 2ms/step - loss: 0.4390 - accuracy: 0.8158\n",
            "Epoch 24/50\n",
            "105/105 [==============================] - 0s 2ms/step - loss: 0.4376 - accuracy: 0.8187\n",
            "Epoch 25/50\n",
            "105/105 [==============================] - 0s 2ms/step - loss: 0.4359 - accuracy: 0.8120\n",
            "Epoch 26/50\n",
            "105/105 [==============================] - 0s 2ms/step - loss: 0.4362 - accuracy: 0.8139\n",
            "Epoch 27/50\n",
            "105/105 [==============================] - 0s 2ms/step - loss: 0.4352 - accuracy: 0.8149\n",
            "Epoch 28/50\n",
            "105/105 [==============================] - 0s 2ms/step - loss: 0.4344 - accuracy: 0.8177\n",
            "Epoch 29/50\n",
            "105/105 [==============================] - 0s 3ms/step - loss: 0.4327 - accuracy: 0.8158\n",
            "Epoch 30/50\n",
            "105/105 [==============================] - 0s 2ms/step - loss: 0.4322 - accuracy: 0.8187\n",
            "Epoch 31/50\n",
            "105/105 [==============================] - 0s 2ms/step - loss: 0.4315 - accuracy: 0.8177\n",
            "Epoch 32/50\n",
            "105/105 [==============================] - 0s 2ms/step - loss: 0.4317 - accuracy: 0.8101\n",
            "Epoch 33/50\n",
            "105/105 [==============================] - 0s 2ms/step - loss: 0.4311 - accuracy: 0.8130\n",
            "Epoch 34/50\n",
            "105/105 [==============================] - 0s 2ms/step - loss: 0.4311 - accuracy: 0.8149\n",
            "Epoch 35/50\n",
            "105/105 [==============================] - 0s 2ms/step - loss: 0.4286 - accuracy: 0.8139\n",
            "Epoch 36/50\n",
            "105/105 [==============================] - 0s 2ms/step - loss: 0.4284 - accuracy: 0.8158\n",
            "Epoch 37/50\n",
            "105/105 [==============================] - 0s 2ms/step - loss: 0.4278 - accuracy: 0.8168\n",
            "Epoch 38/50\n",
            "105/105 [==============================] - 0s 2ms/step - loss: 0.4275 - accuracy: 0.8168\n",
            "Epoch 39/50\n",
            "105/105 [==============================] - 0s 2ms/step - loss: 0.4274 - accuracy: 0.8130\n",
            "Epoch 40/50\n",
            "105/105 [==============================] - 0s 2ms/step - loss: 0.4268 - accuracy: 0.8073\n",
            "Epoch 41/50\n",
            "105/105 [==============================] - 0s 2ms/step - loss: 0.4267 - accuracy: 0.8120\n",
            "Epoch 42/50\n",
            "105/105 [==============================] - 0s 2ms/step - loss: 0.4261 - accuracy: 0.8168\n",
            "Epoch 43/50\n",
            "105/105 [==============================] - 0s 2ms/step - loss: 0.4253 - accuracy: 0.8139\n",
            "Epoch 44/50\n",
            "105/105 [==============================] - 0s 3ms/step - loss: 0.4247 - accuracy: 0.8149\n",
            "Epoch 45/50\n",
            "105/105 [==============================] - 0s 2ms/step - loss: 0.4245 - accuracy: 0.8187\n",
            "Epoch 46/50\n",
            "105/105 [==============================] - 0s 2ms/step - loss: 0.4251 - accuracy: 0.8158\n",
            "Epoch 47/50\n",
            "105/105 [==============================] - 0s 3ms/step - loss: 0.4236 - accuracy: 0.8206\n",
            "Epoch 48/50\n",
            "105/105 [==============================] - 0s 2ms/step - loss: 0.4233 - accuracy: 0.8149\n",
            "Epoch 49/50\n",
            "105/105 [==============================] - 0s 2ms/step - loss: 0.4232 - accuracy: 0.8149\n",
            "Epoch 50/50\n",
            "105/105 [==============================] - 0s 2ms/step - loss: 0.4232 - accuracy: 0.8187\n"
          ]
        },
        {
          "output_type": "execute_result",
          "data": {
            "text/plain": [
              "<keras.src.callbacks.History at 0x78e39d656c20>"
            ]
          },
          "metadata": {},
          "execution_count": 21
        }
      ]
    },
    {
      "cell_type": "code",
      "source": [
        "# Accuracy Calculation\n",
        "predictions_mlp = mlp.predict(X_test)\n",
        "accuracy_mlp = accuracy_score(y_test, predictions_mlp)\n",
        "\n",
        "_, accuracy_dnn = model.evaluate(X_test, y_test)\n",
        "\n",
        "# Plotting\n",
        "plt.bar(['MLP', 'DNN'], [accuracy_mlp, accuracy_dnn])\n",
        "plt.xlabel('Model')\n",
        "plt.ylabel('Accuracy')\n",
        "plt.show()"
      ],
      "metadata": {
        "colab": {
          "base_uri": "https://localhost:8080/",
          "height": 471
        },
        "id": "G-KPY-72bvPJ",
        "outputId": "3a7aa75f-44a3-4329-ebfb-ac137a3cd26f"
      },
      "execution_count": 23,
      "outputs": [
        {
          "output_type": "stream",
          "name": "stdout",
          "text": [
            "9/9 [==============================] - 0s 6ms/step - loss: 0.4780 - accuracy: 0.7634\n"
          ]
        },
        {
          "output_type": "display_data",
          "data": {
            "text/plain": [
              "<Figure size 640x480 with 1 Axes>"
            ],
            "image/png": "[encoded data removed]"
          },
          "metadata": {}
        }
      ]
    }
  ]
}