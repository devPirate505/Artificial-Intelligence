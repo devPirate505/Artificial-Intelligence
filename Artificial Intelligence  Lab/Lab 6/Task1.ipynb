{
  "cells": [
    {
      "cell_type": "code",
      "execution_count": 1,
      "metadata": {
        "colab": {
          "base_uri": "https://localhost:8080/"
        },
        "id": "sl7rEHLVNiSL",
        "outputId": "0bcde418-33df-4c83-dc62-178043982660"
      },
      "outputs": [],
      "source": [
        "# from google.colab import drive\n",
        "# drive.mount('/content/drive')\n",
        "import csv\n",
        "import pandas as pd\n",
        "import numpy as np\n",
        "import math\n",
        "\n",
        "def euclidean_distances(X_train, x_test):\n",
        "  ed_arr = []\n",
        "  j = 0\n",
        "  for i in X_train:\n",
        "    e_dist = math.sqrt(((x_test[0]-i[0])**2)+((x_test[1]-i[1])**2))\n",
        "    temp_list = [e_dist, y_train[j]]\n",
        "    ed_arr.append(temp_list)\n",
        "    j+=1\n",
        "\n",
        "  return ed_arr\n",
        "\n",
        "def predict(X_train, x_test, y_train, k):\n",
        "  y_predict = []\n",
        "  ed_arr = euclidean_distances(X_train, x_test)\n",
        "\n",
        "  ed_arr.sort(key=lambda x: x[0])\n",
        "\n",
        "  for x in range(k):\n",
        "    y_predict.append(ed_arr[x][1])\n",
        "\n",
        "  most_frequent_item = max(y_predict, key=y_predict.count)\n",
        "\n",
        "  return y_predict, most_frequent_item\n",
        "\n",
        "\n"
      ]
    },
    {
      "cell_type": "code",
      "execution_count": 3,
      "metadata": {
        "colab": {
          "base_uri": "https://localhost:8080/"
        },
        "id": "eRSbekWIODnY",
        "outputId": "5689caf9-5fdb-401a-8c72-07ca81ae6ff9"
      },
      "outputs": [
        {
          "name": "stdout",
          "output_type": "stream",
          "text": [
            "['No', 'No', 'No']\n",
            "No\n"
          ]
        }
      ],
      "source": [
        "file_path = \"./dataset.csv\"\n",
        "\n",
        "df = pd.read_csv(file_path)\n",
        "X_train = df[[\"Smoke\", \"Lungs Capacity\"]].to_numpy()\n",
        "y_train = df[\"Cancer\"].to_numpy()\n",
        "x_test = [2,10]\n",
        "k = 3\n",
        "\n",
        "y_predict, prediction = predict(X_train, x_test, y_train, k)\n",
        "\n",
        "print(y_predict)\n",
        "print(prediction)\n"
      ]
    }
  ],
  "metadata": {
    "colab": {
      "provenance": []
    },
    "kernelspec": {
      "display_name": "Python 3",
      "name": "python3"
    },
    "language_info": {
      "codemirror_mode": {
        "name": "ipython",
        "version": 3
      },
      "file_extension": ".py",
      "mimetype": "text/x-python",
      "name": "python",
      "nbconvert_exporter": "python",
      "pygments_lexer": "ipython3",
      "version": "3.12.3"
    }
  },
  "nbformat": 4,
  "nbformat_minor": 0
}
