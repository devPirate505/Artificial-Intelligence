{
  "nbformat": 4,
  "nbformat_minor": 0,
  "metadata": {
    "colab": {
      "provenance": []
    },
    "kernelspec": {
      "name": "python3",
      "display_name": "Python 3"
    },
    "language_info": {
      "name": "python"
    }
  },
  "cells": [
    {
      "cell_type": "code",
      "execution_count": 9,
      "metadata": {
        "id": "W-8JY1L04IZv",
        "colab": {
          "base_uri": "https://localhost:8080/"
        },
        "outputId": "34aa9209-f2e1-4c70-fbeb-805fb1af5efe"
      },
      "outputs": [
        {
          "output_type": "stream",
          "name": "stdout",
          "text": [
            "What is the sensor sensing?smoke\n",
            "the alarm will sound, and the sprinkler system will activate\n"
          ]
        }
      ],
      "source": [
        "percept = ['smoke','high temperature', 'nothing']\n",
        "state = ['smoke detected', 'high temperature detected', 'normal']\n",
        "rule = ['the alarm will sound, and the sprinkler system will activate',\n",
        "        'the alarm will sound, and the fire department will be called',\n",
        "        'alarm off and the sprinkler system deactivated']\n",
        "\n",
        "def getState(percept_value):\n",
        "  index = -1\n",
        "  for x in percept:\n",
        "    index += 1\n",
        "    if x == percept_value:\n",
        "      return state[index]\n",
        "\n",
        "def getRule(state_value):\n",
        "  index = -1\n",
        "  for x in state:\n",
        "    index += 1\n",
        "    if x == state_value:\n",
        "      return rule[index]\n",
        "\n",
        "def SimpleReflexAgent(percept_value):\n",
        "  return getRule(getState(percept_value))\n",
        "\n",
        "\n",
        "sensor_input = input(\"What is the sensor sensing?\")\n",
        "rule = SimpleReflexAgent(sensor_input)\n",
        "print(rule)\n",
        "\n"
      ]
    },
    {
      "cell_type": "code",
      "source": [
        "percepts = ['dry', 'moist', 'wet']\n",
        "states = ['dry soil', 'moist soil', 'wet soil']\n",
        "rules = ['activate the watering system', 'keep the watering system off',\n",
        "         'deactivate the watering system']\n",
        "\n",
        "def getState(percept_value):\n",
        "  index = -1\n",
        "  for x in percepts:\n",
        "    index += 1\n",
        "    if x == percept_value:\n",
        "      return states[index]\n",
        "\n",
        "def getRule(state_value):\n",
        "  index = -1\n",
        "  for x in states:\n",
        "    index += 1\n",
        "    if x == state_value:\n",
        "      return rules[index]\n",
        "\n",
        "def MoistureLevelSensor(percept_value):\n",
        "  return getRule(getState(percept_value))\n",
        "\n",
        "\n",
        "sensor_input = input(\"What is the sensor sensing?\")\n",
        "rule = MoistureLevelSensor(sensor_input)\n",
        "print(rule)"
      ],
      "metadata": {
        "colab": {
          "base_uri": "https://localhost:8080/"
        },
        "id": "UTJtcgr8vC70",
        "outputId": "d7ba9314-fab6-4db6-ffcf-94e75534d014"
      },
      "execution_count": 8,
      "outputs": [
        {
          "output_type": "stream",
          "name": "stdout",
          "text": [
            "What is the sensor sensing?dry\n",
            "activate the watering system\n"
          ]
        }
      ]
    }
  ]
}