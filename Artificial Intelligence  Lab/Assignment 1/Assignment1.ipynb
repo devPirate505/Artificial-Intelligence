{
  "nbformat": 4,
  "nbformat_minor": 0,
  "metadata": {
    "colab": {
      "provenance": []
    },
    "kernelspec": {
      "name": "python3",
      "display_name": "Python 3"
    },
    "language_info": {
      "name": "python"
    }
  },
  "cells": [
    {
      "cell_type": "code",
      "execution_count": 1,
      "metadata": {
        "colab": {
          "base_uri": "https://localhost:8080/"
        },
        "id": "u6XUqrTbl9AP",
        "outputId": "53e1a55c-2191-44d1-ba64-7e48815ed402"
      },
      "outputs": [
        {
          "output_type": "stream",
          "name": "stdout",
          "text": [
            "Mounted at /content/drive\n"
          ]
        }
      ],
      "source": [
        "from google.colab import drive\n",
        "drive.mount(\"/content/drive\")\n",
        "\n",
        "file_path = (\"/content/drive/MyDrive/total_data_na.csv\")"
      ]
    },
    {
      "cell_type": "code",
      "source": [
        "import pandas as pd\n",
        "import matplotlib.pyplot as plt\n",
        "from sklearn.cluster import KMeans\n",
        "import numpy as np\n",
        "from sklearn.preprocessing import StandardScaler\n",
        "\n"
      ],
      "metadata": {
        "id": "XH40YhaRnAHa"
      },
      "execution_count": 11,
      "outputs": []
    },
    {
      "cell_type": "code",
      "source": [
        "df = pd.read_csv(file_path)\n",
        "\n",
        "# Display the structure and content of the dataset\n",
        "print(\"Dataset Structure:\")\n",
        "print(df.info())\n",
        "\n",
        "print(\"\\nDataset Head:\")\n",
        "print(df.head())\n",
        "\n",
        "\n"
      ],
      "metadata": {
        "colab": {
          "base_uri": "https://localhost:8080/"
        },
        "id": "vRU_Xex0nNwS",
        "outputId": "989c1ea4-6dee-45cf-a620-b8c910e6a821"
      },
      "execution_count": 6,
      "outputs": [
        {
          "output_type": "stream",
          "name": "stdout",
          "text": [
            "Dataset Structure:\n",
            "<class 'pandas.core.frame.DataFrame'>\n",
            "RangeIndex: 143 entries, 0 to 142\n",
            "Data columns (total 25 columns):\n",
            " #   Column  Non-Null Count  Dtype  \n",
            "---  ------  --------------  -----  \n",
            " 0   PLAYER  143 non-null    object \n",
            " 1   Mat.x   143 non-null    int64  \n",
            " 2   Inns.x  143 non-null    int64  \n",
            " 3   NO      143 non-null    int64  \n",
            " 4   Runs.x  143 non-null    int64  \n",
            " 5   HS      143 non-null    int64  \n",
            " 6   Avg.x   143 non-null    object \n",
            " 7   BF      143 non-null    int64  \n",
            " 8   SR.x    143 non-null    float64\n",
            " 9   X100    143 non-null    int64  \n",
            " 10  X50     143 non-null    int64  \n",
            " 11  X4s     143 non-null    int64  \n",
            " 12  X6s     143 non-null    int64  \n",
            " 13  Mat.y   143 non-null    int64  \n",
            " 14  Inns.y  143 non-null    int64  \n",
            " 15  Ov      143 non-null    float64\n",
            " 16  Runs.y  143 non-null    int64  \n",
            " 17  Wkts    143 non-null    int64  \n",
            " 18  BBI     143 non-null    int64  \n",
            " 19  Avg.y   143 non-null    object \n",
            " 20  Econ    143 non-null    float64\n",
            " 21  SR.y    143 non-null    object \n",
            " 22  X4w     143 non-null    int64  \n",
            " 23  X5w     143 non-null    int64  \n",
            " 24  y       143 non-null    int64  \n",
            "dtypes: float64(3), int64(18), object(4)\n",
            "memory usage: 28.1+ KB\n",
            "None\n",
            "\n",
            "Dataset Head:\n",
            "            PLAYER  Mat.x  Inns.x  NO  Runs.x  HS  Avg.x   BF    SR.x  X100  \\\n",
            "0      Aaron Finch     10       9   1     134  46  16.75  100  134.00     0   \n",
            "1   AB de Villiers     12      11   2     480  90  53.33  275  174.54     0   \n",
            "2  Abhishek Sharma      3       3   2      63  46     63   33  190.90     0   \n",
            "3   Ajinkya Rahane     15      14   1     370  65  28.46  313  118.21     0   \n",
            "4       Alex Hales      6       6   0     148  45  24.66  118  125.42     0   \n",
            "\n",
            "   ...   Ov  Runs.y  Wkts  BBI  Avg.y  Econ  SR.y  X4w  X5w  y  \n",
            "0  ...  0.0       0     0    0      0   0.0     0    0    0  0  \n",
            "1  ...  0.0       0     0    0      0   0.0     0    0    0  0  \n",
            "2  ...  0.0       0     0    0      0   0.0     0    0    0  0  \n",
            "3  ...  0.0       0     0    0      0   0.0     0    0    0  0  \n",
            "4  ...  0.0       0     0    0      0   0.0     0    0    0  0  \n",
            "\n",
            "[5 rows x 25 columns]\n"
          ]
        }
      ]
    },
    {
      "cell_type": "code",
      "source": [
        "# Handling missing values\n",
        "df.replace('-', np.nan, inplace=True)\n",
        "df.fillna(0, inplace=True)\n",
        "\n",
        "# Select relevant columns for clustering analysis\n",
        "required_stats = df[['Runs.x', 'Avg.x', 'SR.x', 'Wkts', 'Avg.y', 'SR.y']]\n",
        "\n",
        "# Scaling the numerical features\n",
        "scaler = StandardScaler()\n",
        "scaled_data = scaler.fit_transform(required_stats)\n",
        "\n",
        "# Clustering Analysis\n",
        "# Experiment with different values of K and evaluate clustering results\n",
        "\n",
        "inertia = []\n",
        "\n",
        "for k in range(3, 10):\n",
        "    kmeans = KMeans(n_clusters=k, random_state=42, n_init = 10)\n",
        "    kmeans.fit(scaled_data)\n",
        "    inertia.append(kmeans.inertia_)\n",
        "\n",
        "\n",
        "# Plotting the elbow curve\n",
        "plt.figure(figsize=(10, 6))\n",
        "plt.plot(range(3, 10), inertia, marker='o', linestyle='--')\n",
        "plt.xlabel('Number of Clusters (K)')\n",
        "plt.ylabel('Inertia')\n",
        "plt.title('Elbow Method for Optimal K')\n",
        "plt.grid(True)\n",
        "plt.show()"
      ],
      "metadata": {
        "colab": {
          "base_uri": "https://localhost:8080/",
          "height": 564
        },
        "id": "DOQQp35twhBk",
        "outputId": "82ff4803-5daa-433a-8ab5-aa77898898e0"
      },
      "execution_count": 23,
      "outputs": [
        {
          "output_type": "display_data",
          "data": {
            "text/plain": [
              "<Figure size 1000x600 with 1 Axes>"
            ],
            "image/png": "[encoded data removed]"
          },
          "metadata": {}
        }
      ]
    },
    {
      "cell_type": "code",
      "source": [
        "# Choose the optimal number of clusters based on the elbow curve\n",
        "opt_k = 4\n",
        "\n",
        "# Perform K-means clustering with optimal K\n",
        "kmeans = KMeans(n_clusters=opt_k, random_state=42, n_init=10)\n",
        "kmeans.fit(scaled_data)\n",
        "\n",
        "# Add the cluster labels to the dataset\n",
        "df['Cluster'] = kmeans.labels_\n",
        "\n",
        "# Forming a Balanced Cricket Team\n",
        "# Now, let's construct a balanced 12-player cricket team based on the clustering results\n",
        "\n",
        "# Count the number of players in each cluster\n",
        "cluster_counts = df['Cluster'].value_counts()\n",
        "\n",
        "# Select players from each cluster to form a balanced team\n",
        "balanced_team = pd.DataFrame()\n",
        "\n",
        "\n",
        "for cluster_id, count in cluster_counts.items():\n",
        "    players_from_cluster = df[df['Cluster'] == cluster_id].head(int(12 / opt_k))\n",
        "    balanced_team = pd.concat([balanced_team, players_from_cluster])\n",
        "\n",
        "print(\"\\nBalanced Cricket Team:\")\n",
        "print(balanced_team[['PLAYER', 'Cluster']])"
      ],
      "metadata": {
        "colab": {
          "base_uri": "https://localhost:8080/"
        },
        "id": "EHCMsM4OBFEp",
        "outputId": "c39f2061-f939-4e20-d0c7-5ce109a7385d"
      },
      "execution_count": 47,
      "outputs": [
        {
          "output_type": "stream",
          "name": "stdout",
          "text": [
            "\n",
            "Balanced Cricket Team:\n",
            "               PLAYER  Cluster\n",
            "7          Andrew Tye        2\n",
            "11  Bhuvneshwar Kumar        2\n",
            "17       Chris Woakes        2\n",
            "0         Aaron Finch        3\n",
            "4          Alex Hales        3\n",
            "12   Brendon McCullum        3\n",
            "6       Andre Russell        1\n",
            "8          Axar Patel        1\n",
            "9         Ben Cutting        1\n",
            "1      AB de Villiers        0\n",
            "2     Abhishek Sharma        0\n",
            "3      Ajinkya Rahane        0\n"
          ]
        }
      ]
    },
    {
      "cell_type": "code",
      "source": [
        "# Top-order batsmen (openers)\n",
        "openers = balanced_team[balanced_team['Cluster'] == 0]\n",
        "print(\"\\nTop-order Batsmen (Openers):\")\n",
        "print(openers[['PLAYER', 'Cluster','Runs.x', 'SR.x']])\n",
        "\n",
        "# Middle-order batsmen (batsmen who typically bat at positions 3 to 6)\n",
        "middle_order = balanced_team[balanced_team['Cluster'] == 3]\n",
        "print(\"\\nMiddle-order Batsmen:\")\n",
        "print(middle_order[['PLAYER', 'Cluster' ,'Runs.x', 'SR.x']])\n",
        "\n",
        "# All-rounders (players proficient in both batting and bowling)\n",
        "all_rounders = balanced_team[balanced_team['Cluster'] == 2]\n",
        "print(\"\\nAll-rounders:\")\n",
        "print(all_rounders[['PLAYER', 'Cluster','Runs.x', 'SR.x', 'SR.y', 'Wkts']])\n",
        "\n",
        "# Bowlers (specialists in bowling)\n",
        "bowlers = balanced_team[balanced_team['Cluster'] == 1]\n",
        "print(\"\\nBowlers:\")\n",
        "print(bowlers[['PLAYER', 'Cluster', 'SR.y', 'Wkts']])"
      ],
      "metadata": {
        "colab": {
          "base_uri": "https://localhost:8080/"
        },
        "id": "HC6WuVcyDnSb",
        "outputId": "15694285-1aa1-4447-b588-9a268fa5e9ce"
      },
      "execution_count": 59,
      "outputs": [
        {
          "output_type": "stream",
          "name": "stdout",
          "text": [
            "\n",
            "Top-order Batsmen (Openers):\n",
            "            PLAYER  Cluster  Runs.x    SR.x\n",
            "1   AB de Villiers        0     480  174.54\n",
            "2  Abhishek Sharma        0      63  190.90\n",
            "3   Ajinkya Rahane        0     370  118.21\n",
            "\n",
            "Middle-order Batsmen:\n",
            "              PLAYER  Cluster  Runs.x    SR.x\n",
            "0        Aaron Finch        3     134  134.00\n",
            "4         Alex Hales        3     148  125.42\n",
            "12  Brendon McCullum        3     127  144.31\n",
            "\n",
            "All-rounders:\n",
            "               PLAYER  Cluster  Runs.x   SR.x   SR.y  Wkts\n",
            "7          Andrew Tye        2      32  84.21     14    24\n",
            "11  Bhuvneshwar Kumar        2      13  81.25  30.77     9\n",
            "17       Chris Woakes        2      17  89.47  13.75     8\n",
            "\n",
            "Bowlers:\n",
            "          PLAYER  Cluster   SR.y  Wkts\n",
            "6  Andre Russell        1  17.46    13\n",
            "8     Axar Patel        1     52     3\n",
            "9    Ben Cutting        1     51     2\n"
          ]
        }
      ]
    }
  ]
}