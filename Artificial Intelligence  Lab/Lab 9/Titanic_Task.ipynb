{
  "nbformat": 4,
  "nbformat_minor": 0,
  "metadata": {
    "colab": {
      "provenance": []
    },
    "kernelspec": {
      "name": "python3",
      "display_name": "Python 3"
    },
    "language_info": {
      "name": "python"
    }
  },
  "cells": [
    {
      "cell_type": "code",
      "execution_count": 1,
      "metadata": {
        "id": "Ae5kx00CIhgN",
        "colab": {
          "base_uri": "https://localhost:8080/"
        },
        "outputId": "f9d5954e-2acd-4a44-ebb7-03b87dda32b6"
      },
      "outputs": [
        {
          "output_type": "stream",
          "name": "stdout",
          "text": [
            "Mounted at /content/drive\n"
          ]
        }
      ],
      "source": [
        "from google.colab import drive\n",
        "drive.mount(\"/content/drive\")\n",
        "\n",
        "file_path = (\"/content/drive/MyDrive/titanic3.csv\")"
      ]
    },
    {
      "cell_type": "code",
      "source": [
        "import pandas as pd\n",
        "import numpy as np\n",
        "from sklearn import preprocessing\n",
        "from sklearn.model_selection import train_test_split\n",
        "from sklearn.neural_network import MLPClassifier\n",
        "from sklearn.metrics import accuracy_score, precision_score, recall_score, f1_score\n",
        "from sklearn.impute import SimpleImputer\n"
      ],
      "metadata": {
        "id": "XUNWp8H8Mgak"
      },
      "execution_count": 24,
      "outputs": []
    },
    {
      "cell_type": "code",
      "source": [
        "# Load the dataset\n",
        "df = pd.read_csv(file_path)\n",
        "\n",
        "# Preprocess the data\n",
        "le = preprocessing.LabelEncoder()\n",
        "df = df.apply(le.fit_transform)\n",
        "\n",
        "# Fill missing values\n",
        "df = df.fillna(df.mean())\n",
        "\n",
        "# Split the dataset into features and target variable\n",
        "X = df.drop('survived', axis=1)\n",
        "y = df['survived']\n",
        "\n",
        "# Scale the features\n",
        "scaler = preprocessing.StandardScaler()\n",
        "X = scaler.fit_transform(X)\n",
        "\n",
        "# Split the dataset into training and test sets\n",
        "X_train, X_test, y_train, y_test = train_test_split(X, y, test_size=0.2, random_state=42)\n",
        "\n",
        "# Build and train the MLP classifier\n",
        "mlp = MLPClassifier(hidden_layer_sizes=(10, 10, 10), max_iter=1000)\n",
        "mlp.fit(X_train, y_train)\n",
        "\n",
        "# Make predictions on the test set\n",
        "predictions = mlp.predict(X_test)\n",
        "\n",
        "\n",
        "# Evaluate the performance of the MLP classifier\n",
        "print('Accuracy:', accuracy_score(y_test, predictions))\n",
        "print('Precision:', precision_score(y_test, predictions))\n",
        "print('Recall:', recall_score(y_test, predictions))\n",
        "print('F1-score:', f1_score(y_test, predictions))"
      ],
      "metadata": {
        "colab": {
          "base_uri": "https://localhost:8080/"
        },
        "id": "ThneMVPUMlln",
        "outputId": "a777f7d6-a14b-46e4-f335-27e4cdbb9383"
      },
      "execution_count": 26,
      "outputs": [
        {
          "output_type": "stream",
          "name": "stdout",
          "text": [
            "Accuracy: 0.9389312977099237\n",
            "Precision: 0.9210526315789473\n",
            "Recall: 0.9375\n",
            "F1-score: 0.9292035398230089\n"
          ]
        }
      ]
    },
    {
      "cell_type": "code",
      "source": [
        "# Fine-tune the MLP classifier\n",
        "mlp = MLPClassifier(hidden_layer_sizes=(20, 20, 20), max_iter=2000)\n",
        "mlp.fit(X_train, y_train)\n",
        "\n",
        "# Make predictions on the test set\n",
        "predictions = mlp.predict(X_test)\n",
        "\n",
        "# Evaluate the performance of the fine-tuned MLP classifier\n",
        "print('Accuracy (fine-tuned):', accuracy_score(y_test, predictions))\n",
        "print('Precision (fine-tuned):', precision_score(y_test, predictions))\n",
        "print('Recall (fine-tuned):', recall_score(y_test, predictions))\n",
        "print('F1-score (fine-tuned):', f1_score(y_test, predictions))"
      ],
      "metadata": {
        "colab": {
          "base_uri": "https://localhost:8080/"
        },
        "id": "o9o_KC3eQrDe",
        "outputId": "5dd5bb88-0c3f-491a-90fb-545cf6da36ab"
      },
      "execution_count": 23,
      "outputs": [
        {
          "output_type": "stream",
          "name": "stdout",
          "text": [
            "Accuracy (fine-tuned): 0.950381679389313\n",
            "Precision (fine-tuned): 0.9459459459459459\n",
            "Recall (fine-tuned): 0.9375\n",
            "F1-score (fine-tuned): 0.9417040358744394\n"
          ]
        }
      ]
    }
  ]
}