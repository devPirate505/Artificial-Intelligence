{
  "cells": [
    {
      "cell_type": "code",
      "execution_count": 1,
      "metadata": {
        "colab": {
          "base_uri": "https://localhost:8080/"
        },
        "id": "nW-3b-ZU19Ge",
        "outputId": "50d091bc-02c8-4ddd-9f3e-32c5256882e9"
      },
      "outputs": [],
      "source": [
        "# from google.colab import drive\n",
        "# drive.mount('/content/drive')\n",
        "\n",
        "import csv\n",
        "import networkx as nx\n",
        "import math\n",
        "import queue\n",
        "from collections import deque\n",
        "\n",
        "def euclidean_distance(node1, node2, pos):\n",
        "    x1, y1 = pos[node1]\n",
        "    x2, y2 = pos[node2]\n",
        "    return math.sqrt((x2 - x1)**2 + (y2 - y1)**2)\n",
        "\n",
        "\n",
        "def best_first_search(graph, start, goal, heuristic):\n",
        "    visited = set()\n",
        "    pri_queue = queue.PriorityQueue()  # Priority queue\n",
        "    pri_queue.put((heuristic[start], [start]))  # Initial state\n",
        "\n",
        "    while not pri_queue.empty():\n",
        "        heruistic_current, current_path = pri_queue.get()\n",
        "        current_node = current_path[-1]\n",
        "\n",
        "        if current_node == goal:\n",
        "            return current_path, len(visited) # Goal found\n",
        "\n",
        "        visited.add(current_node)\n",
        "\n",
        "        for neighbor in graph.neighbors(current_node):\n",
        "            if neighbor not in visited:\n",
        "                new_path = current_path + [neighbor]\n",
        "                pri_queue.put((heuristic[neighbor], new_path))\n",
        "\n",
        "    return []  # Goal not found\n",
        "\n",
        "\n",
        "def dfs(graph, start, goal):\n",
        "    visited = set()\n",
        "\n",
        "    def dfs_recursive(node, path):\n",
        "        if node == goal:\n",
        "            return path, len(visited)\n",
        "        visited.add(node)\n",
        "\n",
        "        for neighbor in graph.neighbors(node):\n",
        "            if neighbor not in visited:\n",
        "                new_path = dfs_recursive(neighbor, path + [neighbor])\n",
        "                if new_path:\n",
        "                    return new_path\n",
        "        return None\n",
        "\n",
        "    return dfs_recursive(start, [start])\n",
        "\n",
        "\n",
        "def bfs(graph, start, goal):\n",
        "    visited = set()\n",
        "    queue = deque([(start, [start])])\n",
        "\n",
        "    while queue:\n",
        "        node, path = queue.popleft()\n",
        "        if node == goal:\n",
        "            return path, len(visited)\n",
        "        visited.add(node)\n",
        "\n",
        "        for neighbor in graph.neighbors(node):\n",
        "            if neighbor not in visited:\n",
        "                queue.append((neighbor, path + [neighbor]))"
      ]
    },
    {
      "cell_type": "code",
      "execution_count": 3,
      "metadata": {
        "colab": {
          "base_uri": "https://localhost:8080/"
        },
        "id": "50pSEWxE9lxw",
        "outputId": "3b7c1f4e-2123-46da-ab74-7ad39ff719e2"
      },
      "outputs": [
        {
          "name": "stdout",
          "output_type": "stream",
          "text": [
            "[['A', 'B', '5'], ['B', 'C', '3'], ['B', 'D', '2'], ['C', 'E', '4'], ['D', 'F', '6'], ['E', 'G', '7']]\n"
          ]
        },
        {
          "name": "stdout",
          "output_type": "stream",
          "text": [
            "Choose a search algorithm:\n",
            "1. Best-First Search (BestFS)\n",
            "2. Depth-First Search (DFS)\n",
            "3. Breadth-First Search (BFS)\n",
            "Path from B to A found using Best-First Search: B -> A\n",
            "Nodes traced by Best-First Search: 1\n"
          ]
        }
      ],
      "source": [
        " file_path = \"./SimpleGraph.csv\"\n",
        "temp_list=[]\n",
        "with open(file_path, 'r') as file:\n",
        "  csvreader = csv.reader(file)\n",
        "  next(csvreader)\n",
        "  for row in csvreader:\n",
        "    temp_list.append(row)\n",
        "\n",
        "  print(temp_list)\n",
        "\n",
        "G = nx.Graph()\n",
        "G.add_weighted_edges_from(temp_list)\n",
        "\n",
        "node = input(\"Enter source node: \")\n",
        "start_node = node\n",
        "\n",
        "node = input(\"Enter Goal node: \")\n",
        "goal_node = node\n",
        "\n",
        "print(\"Choose a search algorithm:\\n\"\n",
        "\"1. Best-First Search (BestFS)\\n\"\n",
        "\"2. Depth-First Search (DFS)\\n\"\n",
        "\"3. Breadth-First Search (BFS)\")\n",
        "\n",
        "opt = int(input(\"Enter your choice: \"))\n",
        "\n",
        "pos = nx.spring_layout(G)\n",
        "\n",
        "if opt == 1:\n",
        "  heuristic = {node: euclidean_distance(node, goal_node, pos) for node in G.nodes}\n",
        "\n",
        "  path, l = best_first_search(G, start_node, goal_node, heuristic)\n",
        "  if path:\n",
        "      print(\"Path from {} to {} found using Best-First Search: {}\".format(start_node, goal_node, ' -> '.join(path)))\n",
        "      print(\"Nodes traced by Best-First Search: \"+ str(l))\n",
        "  else:\n",
        "      print(\"No path found from {} to {} using Best-First Search\".format(start_node, goal_node))\n",
        "\n",
        "elif opt == 2:\n",
        "  path, l = dfs(G, start_node, goal_node)\n",
        "\n",
        "  if path:\n",
        "    print(f\"Path from node {start_node} to node {goal_node} using Depth First Search: {path}\")\n",
        "    print(\"Nodes traced by Depth First Search: \"+ str(l))\n",
        "  else:\n",
        "    print(f\"No path found from node {start_node} to node {goal_node} using Depth First Search.\")\n",
        "\n",
        "elif opt == 3:\n",
        "  path, l = bfs(G, start_node, goal_node)\n",
        "\n",
        "  if path:\n",
        "    print(f\"BFS path from node {start_node} to node {goal_node} using Breadth First Search: {path}\")\n",
        "    print(\"Nodes traced by Breadth First Search: \"+ str(l))\n",
        "  else:\n",
        "    print(f\"No path found from node {start_node} to node {goal_node} using Breadth First Search.\")\n",
        "\n",
        "else:\n",
        "  print(\"Invalid Input!\")\n",
        "\n"
      ]
    }
  ],
  "metadata": {
    "colab": {
      "provenance": []
    },
    "kernelspec": {
      "display_name": "Python 3",
      "name": "python3"
    },
    "language_info": {
      "codemirror_mode": {
        "name": "ipython",
        "version": 3
      },
      "file_extension": ".py",
      "mimetype": "text/x-python",
      "name": "python",
      "nbconvert_exporter": "python",
      "pygments_lexer": "ipython3",
      "version": "3.12.3"
    }
  },
  "nbformat": 4,
  "nbformat_minor": 0
}
